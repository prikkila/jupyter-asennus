{
 "cells": [
  {
   "cell_type": "markdown",
   "metadata": {},
   "source": [
    "## Jupyter Notebookin asennus"
   ]
  },
  {
   "cell_type": "markdown",
   "metadata": {},
   "source": [
    "Jupyter Notebook (http://jupyter.org/) on sovellus, jonka avulla voidaan luoda ohjelmointikoodia, tavallista tekstiä, kuvia, visuaalisointeja ja yhtälöitä yhdistäviä dokumentteja. Näitä dokumentteja kutsutaan notebookeiksi.\n",
    "\n",
    "Jupyter Notebook on mahdollista asentaa muutamalla eri tavalla. Helpoin ja suositeltavin vaihtoehto on hoitaa asennus Anacondan avulla. Anaconda asentaa yhdellä kertaa Pythonin, Jupyterin sekä Python-ohjelmoinnissa hyödyllisiä paketteja. Asennus Anacondan avulla on helppoa:\n",
    "- Lataa Anaconda sivulta https://www.continuum.io/downloads. Suositeltavinta on ladata Python 3:n uusin versio, joka on tämän tutoriaalin kirjoitushetkellä 3.6.\n",
    "- Asenna Anaconda lataamasi paketin asennusohjelman avulla.\n",
    "- Asennuksen jälkeen voit käynnistää Jupyterin joko avaamalla ohjelman _Anaconda Navigator_ ja valitsemalla valikosta Jupyter Notebookin, tai kirjoittamalla komentoriville komennon _jupyter notebook_.\n",
    "\n",
    "Mikäli Jupyterin käynnistämisen jälkeen avautuu alla olevan tyylinen valikko, ohjelman pitäisi toimia. Jos asennuksessa ilmenee ongelmia, voit olla sähköpostilla yhteydessä koulutuksen vastuuhenkilöihin.\n",
    "<br>\n",
    "<br>\n",
    "<img src=\"Dashboard.png\" align=\"center\">"
   ]
  },
  {
   "cell_type": "markdown",
   "metadata": {},
   "source": [
    "### Muut asennusvaihtoehdot"
   ]
  },
  {
   "cell_type": "markdown",
   "metadata": {},
   "source": [
    "Muut Jupyterin asennusvaihtoehdot ja täydet, englanninkieliset asennusohjeet löytyvät sivulta http://jupyter.readthedocs.io/en/latest/install.html."
   ]
  }
 ],
 "metadata": {
  "kernelspec": {
   "display_name": "Python 2",
   "language": "python",
   "name": "python2"
  },
  "language_info": {
   "codemirror_mode": {
    "name": "ipython",
    "version": 2
   },
   "file_extension": ".py",
   "mimetype": "text/x-python",
   "name": "python",
   "nbconvert_exporter": "python",
   "pygments_lexer": "ipython2",
   "version": "2.7.10"
  }
 },
 "nbformat": 4,
 "nbformat_minor": 1
}
